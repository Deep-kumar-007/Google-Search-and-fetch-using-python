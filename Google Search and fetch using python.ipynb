{
 "cells": [
  {
   "cell_type": "code",
   "execution_count": 3,
   "id": "3db3168b",
   "metadata": {},
   "outputs": [
    {
     "name": "stdout",
     "output_type": "stream",
     "text": [
      "Enter your search query: best sweet of jaipur\n",
      "Enter the number of results to fetch: 5\n",
      "Top search results:\n",
      "1. https://www.pinkcitypost.com/famous-sweets-in-jaipur/\n",
      "2. https://www.jaipurstuff.com/famous-sweets-of-jaipur/\n",
      "3. https://crazymasalafood.com/top-20-desserts-jaipur/\n",
      "4. https://lovemytrips.com/10-famous-sweet-dishes-in-jaipur/\n",
      "5. https://wanderlog.com/list/geoCategory/86475/best-sweets-spots-in-jaipur\n"
     ]
    }
   ],
   "source": [
    "from googlesearch import search\n",
    "\n",
    "def fetch_top_search_results(query, num_results=1):\n",
    "    try:\n",
    "        search_results = search(query, num=num_results)\n",
    "        results = []\n",
    "        for i, result in enumerate(search_results, start=1):\n",
    "            results.append(result)\n",
    "            if i == num_results:\n",
    "                break\n",
    "        return results\n",
    "    except Exception as e:\n",
    "        print(\"An error occurred:\", e)\n",
    "        return []\n",
    "\n",
    "if __name__ == \"__main__\":\n",
    "    search_query = input(\"Enter your search query: \")\n",
    "    num_results = int(input(\"Enter the number of results to fetch: \"))\n",
    "    \n",
    "    top_results = fetch_top_search_results(search_query, num_results)\n",
    "\n",
    "    if top_results:\n",
    "        print(\"Top search results:\")\n",
    "        for i, result in enumerate(top_results, start=1):\n",
    "            print(f\"{i}. {result}\")\n",
    "    else:\n",
    "        print(\"No search results found.\")"
   ]
  },
  {
   "cell_type": "code",
   "execution_count": null,
   "id": "e0644b52",
   "metadata": {},
   "outputs": [],
   "source": []
  }
 ],
 "metadata": {
  "kernelspec": {
   "display_name": "Python 3 (ipykernel)",
   "language": "python",
   "name": "python3"
  },
  "language_info": {
   "codemirror_mode": {
    "name": "ipython",
    "version": 3
   },
   "file_extension": ".py",
   "mimetype": "text/x-python",
   "name": "python",
   "nbconvert_exporter": "python",
   "pygments_lexer": "ipython3",
   "version": "3.10.9"
  }
 },
 "nbformat": 4,
 "nbformat_minor": 5
}
